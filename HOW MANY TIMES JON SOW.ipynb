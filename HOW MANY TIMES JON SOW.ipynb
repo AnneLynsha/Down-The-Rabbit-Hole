{
 "cells": [
  {
   "cell_type": "code",
   "execution_count": 2,
   "id": "16ee3f09",
   "metadata": {},
   "outputs": [],
   "source": [
    "import pandas as pd\n",
    "import numpy as np\n",
    "import string "
   ]
  },
  {
   "cell_type": "code",
   "execution_count": 24,
   "id": "72915369",
   "metadata": {},
   "outputs": [],
   "source": [
    "got_script = open(r\"C:\\Users\\annie\\OneDrive\\Documents\\Excel\\got_scripts_breakdown.csv\",encoding=\"utf8\")"
   ]
  },
  {
   "cell_type": "code",
   "execution_count": 25,
   "id": "b0a3b28e",
   "metadata": {},
   "outputs": [
    {
     "name": "stdout",
     "output_type": "stream",
     "text": [
      "Occurrences of the word:\n",
      "51\n",
      "172\n",
      "439\n",
      "470\n",
      "178\n",
      "270\n"
     ]
    }
   ],
   "source": [
    "count_winter = 0\n",
    "count_die = 0\n",
    "count_ghost = 0\n",
    "count_father = 0\n",
    "count_lannister = 0\n",
    "count_stark = 0\n",
    "\n",
    "for line in got_script:\n",
    "    line = line.strip()\n",
    "    line = line.lower()\n",
    "    words = line.split()\n",
    "    for i in words:\n",
    "        if(i==\"winter\"):\n",
    "            count_winter+=1\n",
    "        elif(i==\"die\"):\n",
    "            count_die+=1\n",
    "        elif (i==\"ghost\"):\n",
    "            count_ghost+=1\n",
    "        elif (i==\"father\"):\n",
    "            count_father+=1\n",
    "        elif (i==\"lannister\"):\n",
    "            count_lannister+=1\n",
    "        elif (i==\"stark\"):\n",
    "            count_stark+=1\n",
    "print(\"Occurrences of the word:\")\n",
    "print(count_winter)\n",
    "print(count_die)\n",
    "print(count_ghost)\n",
    "print(count_father)\n",
    "print(count_lannister)\n",
    "print(count_stark)"
   ]
  },
  {
   "cell_type": "code",
   "execution_count": 26,
   "id": "953d93f1",
   "metadata": {},
   "outputs": [],
   "source": [
    "List1 =[\"winter\", count_winter]\n",
    "List2 = [\"die\", count_die]\n",
    "List3 = [\"ghost\", count_ghost]\n",
    "List4 = [\"father\", count_father]\n",
    "List5 = [\"lannister\", count_lannister] \n",
    "List6 = [\"stark\", count_stark]"
   ]
  },
  {
   "cell_type": "code",
   "execution_count": 27,
   "id": "eefa9634",
   "metadata": {},
   "outputs": [],
   "source": [
    "new_df = pd.DataFrame(data=[List1,List2,List3,List4,List5,List6], columns=[\"word\",\"count\"])"
   ]
  },
  {
   "cell_type": "code",
   "execution_count": 28,
   "id": "d1333d23",
   "metadata": {},
   "outputs": [
    {
     "data": {
      "text/html": [
       "<div>\n",
       "<style scoped>\n",
       "    .dataframe tbody tr th:only-of-type {\n",
       "        vertical-align: middle;\n",
       "    }\n",
       "\n",
       "    .dataframe tbody tr th {\n",
       "        vertical-align: top;\n",
       "    }\n",
       "\n",
       "    .dataframe thead th {\n",
       "        text-align: right;\n",
       "    }\n",
       "</style>\n",
       "<table border=\"1\" class=\"dataframe\">\n",
       "  <thead>\n",
       "    <tr style=\"text-align: right;\">\n",
       "      <th></th>\n",
       "      <th>word</th>\n",
       "      <th>count</th>\n",
       "    </tr>\n",
       "  </thead>\n",
       "  <tbody>\n",
       "    <tr>\n",
       "      <th>0</th>\n",
       "      <td>winter</td>\n",
       "      <td>51</td>\n",
       "    </tr>\n",
       "    <tr>\n",
       "      <th>1</th>\n",
       "      <td>die</td>\n",
       "      <td>172</td>\n",
       "    </tr>\n",
       "    <tr>\n",
       "      <th>2</th>\n",
       "      <td>ghost</td>\n",
       "      <td>439</td>\n",
       "    </tr>\n",
       "    <tr>\n",
       "      <th>3</th>\n",
       "      <td>father</td>\n",
       "      <td>470</td>\n",
       "    </tr>\n",
       "    <tr>\n",
       "      <th>4</th>\n",
       "      <td>lannister</td>\n",
       "      <td>178</td>\n",
       "    </tr>\n",
       "    <tr>\n",
       "      <th>5</th>\n",
       "      <td>stark</td>\n",
       "      <td>270</td>\n",
       "    </tr>\n",
       "  </tbody>\n",
       "</table>\n",
       "</div>"
      ],
      "text/plain": [
       "        word  count\n",
       "0     winter     51\n",
       "1        die    172\n",
       "2      ghost    439\n",
       "3     father    470\n",
       "4  lannister    178\n",
       "5      stark    270"
      ]
     },
     "execution_count": 28,
     "metadata": {},
     "output_type": "execute_result"
    }
   ],
   "source": [
    "new_df"
   ]
  },
  {
   "cell_type": "code",
   "execution_count": 29,
   "id": "42e21315",
   "metadata": {
    "scrolled": true
   },
   "outputs": [
    {
     "data": {
      "text/plain": [
       "<AxesSubplot:ylabel='word'>"
      ]
     },
     "execution_count": 29,
     "metadata": {},
     "output_type": "execute_result"
    },
    {
     "data": {
      "image/png": "[encoded data removed]",
      "text/plain": [
       "<Figure size 432x288 with 1 Axes>"
      ]
     },
     "metadata": {
      "needs_background": "light"
     },
     "output_type": "display_data"
    }
   ],
   "source": [
    "new_df.set_index(\"word\",drop=True,inplace=True)\n",
    "new_df.plot(kind='barh', )"
   ]
  }
 ],
 "metadata": {
  "kernelspec": {
   "display_name": "Python 3",
   "language": "python",
   "name": "python3"
  },
  "language_info": {
   "codemirror_mode": {
    "name": "ipython",
    "version": 3
   },
   "file_extension": ".py",
   "mimetype": "text/x-python",
   "name": "python",
   "nbconvert_exporter": "python",
   "pygments_lexer": "ipython3",
   "version": "3.8.8"
  }
 },
 "nbformat": 4,
 "nbformat_minor": 5
}
